{
  "cells": [
    {
      "cell_type": "markdown",
      "id": "3cc9a88e",
      "metadata": {},
      "source": [
        "# New Contestant\n",
        "## VGG19\n",
        "\n",
        "### Will challenge ResNet20\n",
        "\n",
        "VGG19, introduced by the Visual Geometry Group (Simonyan & Zisserman, 2014), is a deep convolutional neural network known for its simple yet effective architecture. It consists of 19 layers, including 16 convolutional layers and 3 fully connected layers, utilizing small 3x3 filters with a stride of 1 and 2x2 max-pooling layers. The model's depth allows it to learn hierarchical feature representations, making it well-suited for image classification tasks. Despite its straightforward design, VGG19 has shown excellent performance in large-scale image recognition benchmarks, serving as a foundation for various computer vision tasks such as object recognition and transfer learning.\n",
        "\n",
        "\n",
        "Reference: Simonyan, K., & Zisserman, A. (2014). Very Deep Convolutional Networks for Large-Scale Image Recognition. arXiv. https://arxiv.org/abs/1409.1556\n"
      ]
    },
    {
      "cell_type": "code",
      "execution_count": null,
      "id": "879f2ced",
      "metadata": {
        "execution": {
          "iopub.execute_input": "2025-02-20T09:34:37.778322Z",
          "iopub.status.busy": "2025-02-20T09:34:37.777859Z",
          "iopub.status.idle": "2025-02-20T09:34:43.531384Z",
          "shell.execute_reply": "2025-02-20T09:34:43.530698Z",
          "shell.execute_reply.started": "2025-02-20T09:34:37.778296Z"
        },
        "id": "879f2ced",
        "papermill": {
          "duration": 9.598993,
          "end_time": "2025-02-20T05:05:08.900485",
          "exception": false,
          "start_time": "2025-02-20T05:04:59.301492",
          "status": "completed"
        },
        "tags": [],
        "trusted": true
      },
      "outputs": [],
      "source": [
        "import torch\n",
        "import numpy as np\n",
        "import pandas as pd\n",
        "import torch.nn as nn\n",
        "from torchvision import datasets\n",
        "from torchvision import transforms\n",
        "from torch.utils.data.sampler import SubsetRandomSampler\n",
        "import os"
      ]
    },
    {
      "cell_type": "code",
      "execution_count": 3,
      "id": "8e89e3d9",
      "metadata": {
        "execution": {
          "iopub.execute_input": "2025-02-20T09:34:43.533592Z",
          "iopub.status.busy": "2025-02-20T09:34:43.533202Z",
          "iopub.status.idle": "2025-02-20T09:34:43.602578Z",
          "shell.execute_reply": "2025-02-20T09:34:43.601771Z",
          "shell.execute_reply.started": "2025-02-20T09:34:43.533569Z"
        },
        "id": "8e89e3d9",
        "papermill": {
          "duration": 0.013054,
          "end_time": "2025-02-20T05:05:08.916223",
          "exception": false,
          "start_time": "2025-02-20T05:05:08.903169",
          "status": "completed"
        },
        "tags": [],
        "trusted": true
      },
      "outputs": [],
      "source": [
        "device = torch.device('cuda' if torch.cuda.is_available() else 'cpu')"
      ]
    },
    {
      "cell_type": "code",
      "execution_count": 4,
      "id": "213e1e88-8d95-442a-be20-5c90e1cba315",
      "metadata": {
        "colab": {
          "base_uri": "https://localhost:8080/"
        },
        "execution": {
          "iopub.execute_input": "2025-02-20T09:34:43.603951Z",
          "iopub.status.busy": "2025-02-20T09:34:43.603549Z",
          "iopub.status.idle": "2025-02-20T09:34:43.619911Z",
          "shell.execute_reply": "2025-02-20T09:34:43.619167Z",
          "shell.execute_reply.started": "2025-02-20T09:34:43.603898Z"
        },
        "id": "213e1e88-8d95-442a-be20-5c90e1cba315",
        "outputId": "009e69a0-6df9-4294-9c65-ca4e74bfcc5b",
        "trusted": true
      },
      "outputs": [
        {
          "data": {
            "text/plain": [
              "device(type='cuda')"
            ]
          },
          "execution_count": 4,
          "metadata": {},
          "output_type": "execute_result"
        }
      ],
      "source": [
        "device"
      ]
    },
    {
      "cell_type": "markdown",
      "id": "d4a46b0b",
      "metadata": {},
      "source": [
        "CIFAR-10 is a popular dataset used for training machine learning models, consisting of 60,000 32x32 color images in 10 different classes. In this section, we will load the CIFAR-10 dataset using TensorFlow and PyTorch. The dataset is split into 50,000 training images and 10,000 test images.\n",
        "\n",
        "Same dataset was used for ResNet20."
      ]
    },
    {
      "cell_type": "code",
      "execution_count": null,
      "id": "4fc5a0d7",
      "metadata": {
        "colab": {
          "base_uri": "https://localhost:8080/"
        },
        "execution": {
          "iopub.execute_input": "2025-02-20T09:34:46.515881Z",
          "iopub.status.busy": "2025-02-20T09:34:46.515578Z",
          "iopub.status.idle": "2025-02-20T09:34:52.450860Z",
          "shell.execute_reply": "2025-02-20T09:34:52.449969Z",
          "shell.execute_reply.started": "2025-02-20T09:34:46.515853Z"
        },
        "id": "4fc5a0d7",
        "outputId": "ef34533c-c6c8-4673-aa93-883c0eeb66d5",
        "papermill": {
          "duration": 108.404874,
          "end_time": "2025-02-20T05:06:57.323627",
          "exception": false,
          "start_time": "2025-02-20T05:05:08.918753",
          "status": "completed"
        },
        "tags": [],
        "trusted": true
      },
      "outputs": [
        {
          "name": "stdout",
          "output_type": "stream",
          "text": [
            "True\n",
            "Downloading https://www.cs.toronto.edu/~kriz/cifar-10-python.tar.gz to /content/rn/cifar-10-python.tar.gz\n"
          ]
        },
        {
          "name": "stderr",
          "output_type": "stream",
          "text": [
            "100%|██████████| 170M/170M [00:03<00:00, 49.2MB/s]\n"
          ]
        },
        {
          "name": "stdout",
          "output_type": "stream",
          "text": [
            "Extracting /content/rn/cifar-10-python.tar.gz to /content/rn\n",
            "False\n"
          ]
        }
      ],
      "source": [
        "def data_loader(data_dir,\n",
        "                    batch_size,\n",
        "                    random_seed=42,\n",
        "                    valid_size=0.1,\n",
        "                    shuffle=True,\n",
        "                    test=False):\n",
        "\n",
        "        normalize = transforms.Normalize(\n",
        "            mean=[0.4914, 0.4822, 0.4465],\n",
        "            std=[0.2023, 0.1994, 0.2010],\n",
        "        )\n",
        "\n",
        "        \n",
        "        transform = transforms.Compose([\n",
        "                transforms.Resize((224,224)),\n",
        "                transforms.ToTensor(),\n",
        "                normalize,\n",
        "        ])\n",
        "        download = not os.path.exists(os.path.join(data_dir, \"cifar-10-batches-py\"))\n",
        "        print(download)\n",
        "        if test:\n",
        "            dataset = datasets.CIFAR10(\n",
        "              root=data_dir, train=False,\n",
        "              download=download, transform=transform,\n",
        "            )\n",
        "\n",
        "            data_loader = torch.utils.data.DataLoader(\n",
        "                dataset, batch_size=batch_size, shuffle=shuffle\n",
        "            )\n",
        "\n",
        "            return data_loader\n",
        "\n",
        "       \n",
        "        train_dataset = datasets.CIFAR10(\n",
        "            root=data_dir, train=True,\n",
        "            download=download, transform=transform,\n",
        "        )\n",
        "\n",
        "\n",
        "        num_train = len(train_dataset)\n",
        "        indices = list(range(num_train))\n",
        "        split = int(np.floor(valid_size * num_train))\n",
        "\n",
        "        if shuffle:\n",
        "            np.random.seed(42)\n",
        "            np.random.shuffle(indices)\n",
        "\n",
        "        train_idx, valid_idx = indices[split:], indices[:split]\n",
        "        train_sampler = SubsetRandomSampler(train_idx)\n",
        "        valid_sampler = SubsetRandomSampler(valid_idx)\n",
        "\n",
        "        train_loader = torch.utils.data.DataLoader(\n",
        "            train_dataset, batch_size=batch_size, sampler=train_sampler,num_workers=2,pin_memory=True)\n",
        "\n",
        "        valid_loader = torch.utils.data.DataLoader(\n",
        "            train_dataset, batch_size=batch_size, sampler=valid_sampler)\n",
        "\n",
        "        return (train_loader, valid_loader)\n",
        "train_loader, valid_loader = data_loader(data_dir='/content/rn',\n",
        "                                             batch_size=64)\n",
        "\n",
        "test_loader = data_loader(data_dir='/content/rn',\n",
        "                                  batch_size=64,\n",
        "                                  test=True)"
      ]
    },
    {
      "cell_type": "markdown",
      "id": "a9900b1c",
      "metadata": {},
      "source": [
        "The VGG19 class defines a convolutional neural network architecture based on the VGG model, with 19 layers, including convolutional and fully connected layers. In the __init__ method, the model is initialized with a sequence of convolutional layers followed by ReLU activations, and a classifier consisting of three fully connected layers. The architecture is designed using the _make_layer_set method, which constructs the network's layers based on the specified number of channels and repetitions. The network uses Kaiming initialization for the convolutional layers and normal initialization for the fully connected layers. The forward method passes the input through the layers, applies a flattening step, and outputs the classification results."
      ]
    },
    {
      "cell_type": "code",
      "execution_count": 6,
      "id": "561235d6",
      "metadata": {
        "execution": {
          "iopub.execute_input": "2025-02-20T09:34:52.452274Z",
          "iopub.status.busy": "2025-02-20T09:34:52.452013Z",
          "iopub.status.idle": "2025-02-20T09:34:52.457938Z",
          "shell.execute_reply": "2025-02-20T09:34:52.457023Z",
          "shell.execute_reply.started": "2025-02-20T09:34:52.452252Z"
        },
        "id": "561235d6",
        "papermill": {
          "duration": 0.042786,
          "end_time": "2025-02-20T05:06:57.399851",
          "exception": false,
          "start_time": "2025-02-20T05:06:57.357065",
          "status": "completed"
        },
        "tags": [],
        "trusted": true
      },
      "outputs": [],
      "source": [
        "class VGG19(nn.Module):\n",
        "        def __init__(self, num_classes = 10):\n",
        "            super(VGG19, self).__init__()\n",
        "            self.in_channels = 3\n",
        "            self.layer_set = self._make_layer_set([(64, 2), (128, 2), (256, 4),(512, 4),(512, 4)])\n",
        "            self.classifier = nn.Sequential(\n",
        "                nn.Linear(512*7*7, 4096), nn.ReLU(inplace=True),\n",
        "                nn.Linear(4096, 4096), nn.ReLU(inplace=True),\n",
        "                nn.Linear(4096, num_classes)\n",
        "            )\n",
        "            for m in self.modules():\n",
        "              if isinstance(m, nn.Conv2d):\n",
        "                  nn.init.kaiming_normal_(m.weight, mode='fan_out', nonlinearity='relu')\n",
        "                  if m.bias is not None:\n",
        "                      nn.init.constant_(m.bias, 0)\n",
        "              elif isinstance(m, nn.Linear):\n",
        "                  nn.init.normal_(m.weight, 0, 0.01)\n",
        "                  nn.init.constant_(m.bias, 0)\n",
        "        def _make_layer_set(self, arch):\n",
        "            layers = []\n",
        "            for n_c, n_l in arch:\n",
        "                layers.append(\n",
        "                    nn.Sequential(\n",
        "                        nn.Conv2d(self.in_channels, n_c, kernel_size=3, padding=1),\n",
        "                        nn.ReLU(inplace=True)\n",
        "                    )\n",
        "                )\n",
        "                for i in range(n_l-1):\n",
        "                    layers.append(\n",
        "                        nn.Sequential(\n",
        "                            nn.Conv2d(n_c, n_c, kernel_size=3, padding=1),\n",
        "                            nn.ReLU(inplace=True)\n",
        "                        )\n",
        "                    )\n",
        "                layers.append(nn.MaxPool2d(kernel_size=2, stride=2))\n",
        "                self.in_channels = n_c\n",
        "\n",
        "            return nn.Sequential(*layers)\n",
        "\n",
        "        def forward(self, x):\n",
        "            x = self.layer_set(x)\n",
        "            x = x.view(x.size(0), -1)\n",
        "            x = self.classifier(x)\n",
        "\n",
        "            return x"
      ]
    },
    {
      "cell_type": "markdown",
      "id": "e087ca14",
      "metadata": {},
      "source": [
        "The VGG19 model, originally designed for the ImageNet dataset, employs a deep architecture with 19 layers, including 16 convolutional layers and 3 fully connected layers. For training on the CIFAR-10 dataset on our limited GPU resources adjustments to hyperparameters are necessary to optimize performance. Modifications include reducing the learning rate, decreasing the number of epochs.\n",
        "\n",
        "We also use lr scheduler instead of manually adjusting lr(Practiced orginally).\n",
        "\n",
        "Although we were able to use 128 batches in ResNet20, we were forced to use 64 batch size because of this architechtures huge size, causing Out of Memory erros.\n",
        "\n",
        "This architecture is comparably huge becuase it uses 3 Fully connected layers, unlike ResNet which uses only 1."
      ]
    },
    {
      "cell_type": "code",
      "execution_count": null,
      "id": "f40679cd",
      "metadata": {
        "execution": {
          "iopub.execute_input": "2025-02-20T09:34:59.766408Z",
          "iopub.status.busy": "2025-02-20T09:34:59.766061Z",
          "iopub.status.idle": "2025-02-20T09:35:00.009425Z",
          "shell.execute_reply": "2025-02-20T09:35:00.008493Z",
          "shell.execute_reply.started": "2025-02-20T09:34:59.766383Z"
        },
        "id": "f40679cd",
        "trusted": true
      },
      "outputs": [],
      "source": [
        "num_classes = 10\n",
        "num_epochs = 10\n",
        "batch_size = 64\n",
        "learning_rate = 0.001\n",
        "\n",
        "model = VGG19()\n",
        "model.to(device)\n",
        "\n",
        "criterion = nn.CrossEntropyLoss()\n",
        "optimizer = torch.optim.SGD(model.parameters(), lr=learning_rate, weight_decay=0.001, momentum=0.9)\n",
        "scheduler = torch.optim.lr_scheduler.MultiStepLR(optimizer,\n",
        "                                               milestones=[5,8],\n",
        "                                               gamma=0.1)\n",
        "\n",
        "total_step = len(train_loader)"
      ]
    },
    {
      "cell_type": "code",
      "execution_count": 8,
      "id": "nXMvk-fE16Uu",
      "metadata": {
        "id": "nXMvk-fE16Uu"
      },
      "outputs": [],
      "source": [
        "# from google.colab import drive\n",
        "os.environ['PYTORCH_CUDA_ALLOC_CONF'] = 'expandable_segments:True'\n",
        "# drive.mount('/content/drive')"
      ]
    },
    {
      "cell_type": "markdown",
      "id": "4662569e",
      "metadata": {},
      "source": [
        "The training loop includes model checkpointing, which saves the model, optimizer, and scheduler states every two epochs to allow resuming training if interrupted. It also implements early stopping based on validation accuracy, halting training after three consecutive epochs of no improvement. Additionally, the loop ensures efficient memory management by clearing tensors and invoking garbage collection after each batch."
      ]
    },
    {
      "cell_type": "code",
      "execution_count": 9,
      "id": "6a7f6fb3",
      "metadata": {
        "colab": {
          "base_uri": "https://localhost:8080/"
        },
        "execution": {
          "iopub.execute_input": "2025-02-20T09:35:02.566572Z",
          "iopub.status.busy": "2025-02-20T09:35:02.566264Z"
        },
        "id": "6a7f6fb3",
        "outputId": "38d24d7c-a894-4ffd-f8aa-d90cd4330e56",
        "trusted": true
      },
      "outputs": [
        {
          "name": "stdout",
          "output_type": "stream",
          "text": [
            "half way there\n",
            "epoch 1, loss: 1.8316\n",
            "Time:  862.3912055492401\n",
            "Val acc: 42.32%\n",
            "half way there\n",
            "Checkpoint saved at epoch 2\n",
            "epoch 2, loss: 1.0693\n",
            "Time:  886.5451471805573\n",
            "Val acc: 53.96%\n",
            "half way there\n",
            "epoch 3, loss: 1.0820\n",
            "Time:  875.1750333309174\n",
            "Val acc: 56.78%\n",
            "half way there\n",
            "Checkpoint saved at epoch 4\n",
            "epoch 4, loss: 0.4137\n",
            "Time:  891.848908662796\n",
            "Val acc: 64.32%\n",
            "half way there\n",
            "epoch 5, loss: 0.8843\n",
            "Time:  878.8813018798828\n",
            "Val acc: 63.06%\n",
            "half way there\n",
            "Checkpoint saved at epoch 6\n",
            "epoch 6, loss: 0.2467\n",
            "Time:  933.470449924469\n",
            "Val acc: 70.72%\n",
            "half way there\n",
            "epoch 7, loss: 0.4964\n",
            "Time:  883.2415471076965\n",
            "Val acc: 70.00%\n",
            "half way there\n",
            "Checkpoint saved at epoch 8\n",
            "epoch 8, loss: 0.0377\n",
            "Time:  909.1188766956329\n",
            "Val acc: 69.54%\n",
            "half way there\n",
            "epoch 9, loss: 0.0376\n",
            "Time:  881.9681146144867\n",
            "Val acc: 69.96%\n",
            "early stopping\n"
          ]
        }
      ],
      "source": [
        "import gc\n",
        "import time\n",
        "\n",
        "checkpoint_path = \"/content/vgg19_checkpoint3.pth\"\n",
        "\n",
        "\n",
        "start_epoch = 0\n",
        "if os.path.exists(checkpoint_path):\n",
        "    checkpoint = torch.load(checkpoint_path, map_location=device)\n",
        "    model.load_state_dict(checkpoint[\"model_state\"])\n",
        "    optimizer.load_state_dict(checkpoint[\"optimizer_state\"])\n",
        "    scheduler.load_state_dict(checkpoint[\"scheduler_state\"])\n",
        "    start_epoch = checkpoint[\"epoch\"] + 1\n",
        "    print(f\"Checkpoint loaded. Resuming from epoch {start_epoch}\")\n",
        "total_step = len(train_loader)\n",
        "best_val = -1\n",
        "tolerance = 3\n",
        "t = 0\n",
        "for epoch in range(start_epoch, num_epochs):\n",
        "    t = time.time()\n",
        "    for i, (images, labels) in enumerate(train_loader):\n",
        "        if total_step/2 == i+1:\n",
        "          print(\"half way there\")\n",
        "        #Move tensors to the configured device\n",
        "        images = images.to(device)\n",
        "        labels = labels.to(device)\n",
        "\n",
        "        #Forward pass\n",
        "        outputs = model(images)\n",
        "        loss = criterion(outputs, labels)\n",
        "\n",
        "        #Backward and optimize\n",
        "        optimizer.zero_grad()\n",
        "        loss.backward()\n",
        "        optimizer.step()\n",
        "        del images, labels, outputs\n",
        "        torch.cuda.empty_cache()\n",
        "        gc.collect()\n",
        "    scheduler.step()\n",
        "    if (epoch + 1) % 2 == 0:\n",
        "        torch.save({\n",
        "            \"epoch\": epoch,\n",
        "            \"model_state\": model.state_dict(),\n",
        "            \"optimizer_state\": optimizer.state_dict(),\n",
        "            \"scheduler_state\":scheduler.state_dict()\n",
        "        }, os.path.join(os.path.dirname(checkpoint_path), f\"vgg19_checkpoint3_{epoch}.pth\"))\n",
        "        print(f\"Checkpoint saved at epoch {epoch+1}\")\n",
        "    print ('epoch {}, loss: {:.4f}'.format(epoch+1, loss.item()))\n",
        "    print(\"Time: \", time.time()-t)\n",
        "\n",
        "    # Validation\n",
        "    with torch.no_grad():\n",
        "        correct = 0\n",
        "        total = 0\n",
        "        for images, labels in valid_loader:\n",
        "            images = images.to(device)\n",
        "            labels = labels.to(device)\n",
        "            outputs = model(images)\n",
        "            _, predicted = torch.max(outputs.data, 1)\n",
        "            total += labels.size(0)\n",
        "            correct += (predicted == labels).sum().item()\n",
        "\n",
        "        val_acc = 100 * correct / total\n",
        "        print(f'Val acc: {val_acc:.2f}%')\n",
        "\n",
        "\n",
        "    if epoch > 0 and val_acc <= best_val:\n",
        "        tolerance -= 1\n",
        "        if tolerance == 0:\n",
        "            print(\"early stopping\")\n",
        "            break\n",
        "    else:\n",
        "        best_val = val_acc\n",
        "        tolerance = 3"
      ]
    },
    {
      "cell_type": "markdown",
      "id": "fe14a0fc",
      "metadata": {},
      "source": [
        "Again since the architecture is very dense, it frequently encountered overfitting. After adding lower 'tolerance', This forced the algorithm to stop early at epoch 9."
      ]
    },
    {
      "cell_type": "code",
      "execution_count": 13,
      "id": "yxHKJxhoiWOU",
      "metadata": {
        "id": "yxHKJxhoiWOU"
      },
      "outputs": [],
      "source": [
        "import seaborn as sns\n",
        "import matplotlib.pyplot as plt\n",
        "from sklearn.metrics import confusion_matrix\n",
        "def plot_confusion_matrix(y_true, y_pred, class_labels):\n",
        "      cm = confusion_matrix(y_true, y_pred)\n",
        "      plt.figure(figsize=(8, 6))\n",
        "      sns.heatmap(cm, annot=True, fmt='d', cmap='Blues', xticklabels=class_labels, yticklabels=class_labels)\n",
        "      plt.xlabel('Predicted Label')\n",
        "      plt.ylabel('True Label')\n",
        "      plt.show()\n"
      ]
    },
    {
      "cell_type": "markdown",
      "id": "5dce5db5",
      "metadata": {},
      "source": [
        "After testing the model at the last checkpoint (epoch 8, saved as 7 due to starting from 0), we achieved a solid 70% accuracy. \n",
        "\n",
        "We acheived 70% accuracy. This was great since the accuracy is comparable to our ResNet variant(66%), making it controlled environment for testing on quantization.\n",
        "\n",
        "Now, we're taking it to the next level—quantizing this model and throwing it into a challenge against other ResNet20 models. Stay tuned to see who comes out on top!"
      ]
    },
    {
      "cell_type": "code",
      "execution_count": 15,
      "id": "zjGNGl8mJ-Ln",
      "metadata": {
        "colab": {
          "base_uri": "https://localhost:8080/",
          "height": 614
        },
        "id": "zjGNGl8mJ-Ln",
        "outputId": "f7337477-edce-4b64-e49b-61c2633088b5"
      },
      "outputs": [
        {
          "name": "stderr",
          "output_type": "stream",
          "text": [
            "<ipython-input-15-bee5a257cff8>:7: FutureWarning: You are using `torch.load` with `weights_only=False` (the current default value), which uses the default pickle module implicitly. It is possible to construct malicious pickle data which will execute arbitrary code during unpickling (See https://github.com/pytorch/pytorch/blob/main/SECURITY.md#untrusted-models for more details). In a future release, the default value for `weights_only` will be flipped to `True`. This limits the functions that could be executed during unpickling. Arbitrary objects will no longer be allowed to be loaded via this mode unless they are explicitly allowlisted by the user via `torch.serialization.add_safe_globals`. We recommend you start setting `weights_only=True` for any use case where you don't have full control of the loaded file. Please open an issue on GitHub for any issues related to this experimental feature.\n",
            "  checkpoint = torch.load(checkpoint_path, map_location='cpu')\n"
          ]
        },
        {
          "data": {
            "image/png": "[encoded data removed]",
            "text/plain": [
              "<Figure size 800x600 with 2 Axes>"
            ]
          },
          "metadata": {},
          "output_type": "display_data"
        },
        {
          "name": "stdout",
          "output_type": "stream",
          "text": [
            "Accuracy 70.31%\n"
          ]
        }
      ],
      "source": [
        "y_pred = []\n",
        "y_true = []\n",
        "model.eval()\n",
        "checkpoint_path = \"/content/vgg19_checkpoint3_7.pth\"\n",
        "\n",
        "if os.path.exists(checkpoint_path):\n",
        "    checkpoint = torch.load(checkpoint_path, map_location='cpu')\n",
        "    model.load_state_dict(checkpoint[\"model_state\"])\n",
        "    optimizer.load_state_dict(checkpoint[\"optimizer_state\"])\n",
        "    scheduler.load_state_dict(checkpoint[\"scheduler_state\"])\n",
        "with torch.no_grad():\n",
        "    correct = 0\n",
        "    total = 0\n",
        "    for images, labels in test_loader:\n",
        "        model.to(device)\n",
        "        images = images.to(device)\n",
        "        labels = labels.to(device)\n",
        "        outputs = model(images)\n",
        "        _, predicted = torch.max(outputs.data, 1)\n",
        "        y_pred.extend(predicted.cpu().numpy())\n",
        "        y_true.extend(labels.cpu().numpy())\n",
        "        total += labels.size(0)\n",
        "        correct += (predicted == labels).sum().item()\n",
        "        del images, labels, outputs\n",
        "\n",
        "plot_confusion_matrix(y_true, y_pred, range(0,10))\n",
        "print('Accuracy {}%'.format(100 * correct / total))"
      ]
    }
  ],
  "metadata": {
    "accelerator": "GPU",
    "colab": {
      "gpuType": "T4",
      "provenance": []
    },
    "kaggle": {
      "accelerator": "nvidiaTeslaT4",
      "dataSources": [
        {
          "datasetId": 6703046,
          "sourceId": 10799960,
          "sourceType": "datasetVersion"
        }
      ],
      "dockerImageVersionId": 30887,
      "isGpuEnabled": true,
      "isInternetEnabled": true,
      "language": "python",
      "sourceType": "notebook"
    },
    "kernelspec": {
      "display_name": "Python 3",
      "name": "python3"
    },
    "language_info": {
      "codemirror_mode": {
        "name": "ipython",
        "version": 3
      },
      "file_extension": ".py",
      "mimetype": "text/x-python",
      "name": "python",
      "nbconvert_exporter": "python",
      "pygments_lexer": "ipython3",
      "version": "3.10.12"
    },
    "papermill": {
      "default_parameters": {},
      "duration": 124.644678,
      "end_time": "2025-02-20T05:07:00.216846",
      "environment_variables": {},
      "exception": null,
      "input_path": "__notebook__.ipynb",
      "output_path": "__notebook__.ipynb",
      "parameters": {},
      "start_time": "2025-02-20T05:04:55.572168",
      "version": "2.6.0"
    }
  },
  "nbformat": 4,
  "nbformat_minor": 5
}
