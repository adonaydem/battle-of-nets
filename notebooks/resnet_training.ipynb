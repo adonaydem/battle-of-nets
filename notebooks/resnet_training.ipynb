{
  "cells": [
    {
      "cell_type": "markdown",
      "id": "8a3620b8",
      "metadata": {
        "id": "8a3620b8"
      },
      "source": [
        "# Our First ever contestant\n",
        "## Custom ResNet20 Architecture\n",
        "\n",
        "In this notebook, we will explore a Custom ResNet20 Architecture. The decision to use ResNet20 comes from its unique structure, which is often overlooked in favor of more modern or larger variants like ResNet50 or ResNet101. This choice provides a deeper understanding of how residual networks operate and how their principles can be applied even in simpler, smaller architectures and taking under consideration our GPU resource contraints.\n",
        "\n",
        "The goal of this implementation is to closely mimic the original ResNet architecture as described in the seminal paper Deep Residual Learning for Image Recognition by He et al. The parameters and algorithms used in this notebook are chosen to reflect the original ResNet design, though not completely because of GPU resource contraints. While these settings may not be the most optimized in today's standards, they are chosen to preserve the intent and logic behind the original paper, making it a great learning tool for newcomers to deep learning.\n",
        "\n",
        "Reference: He, K., Zhang, X., Ren, S., & Sun, J. (2015). Deep Residual Learning for Image Recognition. arXiv. https://arxiv.org/abs/1512.03385\n",
        "\n"
      ]
    },
    {
      "cell_type": "code",
      "execution_count": 1,
      "id": "6320dcba",
      "metadata": {
        "id": "6320dcba"
      },
      "outputs": [],
      "source": [
        "import numpy as np\n",
        "import pandas as pd\n",
        "import torch\n",
        "import torch.nn as nn\n",
        "from torchvision import datasets\n",
        "from torchvision import transforms\n",
        "from torch.utils.data.sampler import SubsetRandomSampler\n",
        "import os"
      ]
    },
    {
      "cell_type": "code",
      "execution_count": 2,
      "id": "8e89e3d9",
      "metadata": {
        "execution": {
          "iopub.execute_input": "2025-02-21T12:50:30.067153Z",
          "iopub.status.busy": "2025-02-21T12:50:30.066759Z",
          "iopub.status.idle": "2025-02-21T12:50:30.159891Z",
          "shell.execute_reply": "2025-02-21T12:50:30.158831Z",
          "shell.execute_reply.started": "2025-02-21T12:50:30.067132Z"
        },
        "id": "8e89e3d9",
        "papermill": {
          "duration": 0.013054,
          "end_time": "2025-02-20T05:05:08.916223",
          "exception": false,
          "start_time": "2025-02-20T05:05:08.903169",
          "status": "completed"
        },
        "tags": [],
        "trusted": true
      },
      "outputs": [],
      "source": [
        "device = torch.device('cuda' if torch.cuda.is_available() else 'cpu')"
      ]
    },
    {
      "cell_type": "code",
      "execution_count": 3,
      "id": "213e1e88-8d95-442a-be20-5c90e1cba315",
      "metadata": {
        "colab": {
          "base_uri": "https://localhost:8080/"
        },
        "execution": {
          "iopub.execute_input": "2025-02-21T12:50:30.161707Z",
          "iopub.status.busy": "2025-02-21T12:50:30.161351Z",
          "iopub.status.idle": "2025-02-21T12:50:30.187554Z",
          "shell.execute_reply": "2025-02-21T12:50:30.186665Z",
          "shell.execute_reply.started": "2025-02-21T12:50:30.161676Z"
        },
        "id": "213e1e88-8d95-442a-be20-5c90e1cba315",
        "outputId": "46b07d51-3614-4d4b-f941-ffa78a21b5b6",
        "trusted": true
      },
      "outputs": [
        {
          "data": {
            "text/plain": [
              "device(type='cuda')"
            ]
          },
          "execution_count": 3,
          "metadata": {},
          "output_type": "execute_result"
        }
      ],
      "source": [
        "device"
      ]
    },
    {
      "cell_type": "markdown",
      "id": "605cbec6",
      "metadata": {
        "id": "605cbec6"
      },
      "source": [
        "CIFAR-10 is a popular dataset used for training machine learning models, consisting of 60,000 32x32 color images in 10 different classes. In this section, we will load the CIFAR-10 dataset using TensorFlow and PyTorch. The dataset is split into 50,000 training images and 10,000 test images.\n",
        "\n",
        "- **Normalization & Augmentation:** Applies transformations like random cropping, flipping, and normalization.  \n",
        "- **Dataset Download:** Checks if CIFAR-10 exists locally; downloads if missing.  \n",
        "- **Test Loader:** Loads test data with transformations and creates a DataLoader.  \n",
        "- **Train Loader:** Loads training data, applies transformations, and splits into train/validation sets.  \n",
        "- **Sampling & DataLoaders:** Uses `SubsetRandomSampler` to split and create train/validation loaders.  "
      ]
    },
    {
      "cell_type": "code",
      "execution_count": 23,
      "id": "4fc5a0d7",
      "metadata": {
        "colab": {
          "base_uri": "https://localhost:8080/"
        },
        "execution": {
          "iopub.execute_input": "2025-02-21T12:50:30.188563Z",
          "iopub.status.busy": "2025-02-21T12:50:30.188365Z",
          "iopub.status.idle": "2025-02-21T12:50:34.920763Z",
          "shell.execute_reply": "2025-02-21T12:50:34.920032Z",
          "shell.execute_reply.started": "2025-02-21T12:50:30.188546Z"
        },
        "id": "4fc5a0d7",
        "outputId": "e075a9bf-93fa-498a-e2ff-6287b4f3ed7c",
        "papermill": {
          "duration": 108.404874,
          "end_time": "2025-02-20T05:06:57.323627",
          "exception": false,
          "start_time": "2025-02-20T05:05:08.918753",
          "status": "completed"
        },
        "tags": [],
        "trusted": true
      },
      "outputs": [
        {
          "name": "stdout",
          "output_type": "stream",
          "text": [
            "False\n",
            "False\n"
          ]
        }
      ],
      "source": [
        "def data_loader(data_dir,\n",
        "                    batch_size,\n",
        "                    random_seed=42,\n",
        "                    valid_size=0.1,\n",
        "                    shuffle=True,\n",
        "                    test=False):\n",
        "\n",
        "        normalize = transforms.Normalize(\n",
        "            mean=[0.4914, 0.4822, 0.4465],\n",
        "            std=[0.2023, 0.1994, 0.2010],\n",
        "        )\n",
        "\n",
        "        # define transforms\n",
        "        transform = transforms.Compose([\n",
        "            transforms.RandomCrop(32, padding=4),\n",
        "            transforms.RandomHorizontalFlip(),\n",
        "            transforms.ToTensor(),\n",
        "            normalize,\n",
        "        ])\n",
        "        download = not os.path.exists(os.path.join(data_dir, \"cifar-10-batches-py\"))\n",
        "        print(download)\n",
        "        if test:\n",
        "            dataset = datasets.CIFAR10(\n",
        "              root=data_dir, train=False,\n",
        "              download=download, transform=transform,\n",
        "            )\n",
        "\n",
        "            data_loader = torch.utils.data.DataLoader(\n",
        "                dataset, batch_size=batch_size, shuffle=shuffle\n",
        "            )\n",
        "\n",
        "            return data_loader\n",
        "\n",
        "        # load the dataset\n",
        "        train_dataset = datasets.CIFAR10(\n",
        "            root=data_dir, train=True,\n",
        "            download=download, transform=transform,\n",
        "        )\n",
        "\n",
        "\n",
        "        num_train = len(train_dataset)\n",
        "        indices = list(range(num_train))\n",
        "        split = int(np.floor(valid_size * num_train))\n",
        "\n",
        "        if shuffle:\n",
        "            np.random.seed(42)\n",
        "            np.random.shuffle(indices)\n",
        "\n",
        "        train_idx, valid_idx = indices[split:], indices[:split]\n",
        "        train_sampler = SubsetRandomSampler(train_idx)\n",
        "        valid_sampler = SubsetRandomSampler(valid_idx)\n",
        "\n",
        "        train_loader = torch.utils.data.DataLoader(\n",
        "            train_dataset, batch_size=batch_size, sampler=train_sampler,num_workers=2,pin_memory=True)\n",
        "\n",
        "        valid_loader = torch.utils.data.DataLoader(\n",
        "            train_dataset, batch_size=batch_size, sampler=valid_sampler)\n",
        "\n",
        "        return (train_loader, valid_loader)\n",
        "train_loader, valid_loader = data_loader(data_dir='/kaggle/working/cifar10',\n",
        "                                             batch_size=128)\n",
        "\n",
        "test_loader = data_loader(data_dir='/kaggle/working/cifar10',\n",
        "                                  batch_size=128,\n",
        "                                  test=True)"
      ]
    },
    {
      "cell_type": "markdown",
      "id": "90010591",
      "metadata": {
        "id": "90010591"
      },
      "source": [
        "A Residual Block is the fundamental building block of the ResNet architecture, designed to solve the vanishing gradient problem by introducing skip connections. These skip connections allow the input to bypass the convolutional layers and be added directly to the output, creating a shortcut path for gradients during backpropagation. This helps the network learn residual mappings, improving the model's performance and convergence."
      ]
    },
    {
      "cell_type": "code",
      "execution_count": 24,
      "id": "561235d6",
      "metadata": {
        "execution": {
          "iopub.execute_input": "2025-02-21T12:50:34.921757Z",
          "iopub.status.busy": "2025-02-21T12:50:34.921506Z",
          "iopub.status.idle": "2025-02-21T12:50:34.927185Z",
          "shell.execute_reply": "2025-02-21T12:50:34.926270Z",
          "shell.execute_reply.started": "2025-02-21T12:50:34.921736Z"
        },
        "id": "561235d6",
        "papermill": {
          "duration": 0.042786,
          "end_time": "2025-02-20T05:06:57.399851",
          "exception": false,
          "start_time": "2025-02-20T05:06:57.357065",
          "status": "completed"
        },
        "tags": [],
        "trusted": true
      },
      "outputs": [],
      "source": [
        "class ResidualBlock(nn.Module):\n",
        "        def __init__(self, in_channels, out_channels, stride = 1, downsample = None):\n",
        "            super(ResidualBlock, self).__init__()\n",
        "            self.conv1 = nn.Conv2d(in_channels, out_channels, kernel_size = 3, stride = stride, padding = 1)\n",
        "            self.bn1 = nn.BatchNorm2d(out_channels)\n",
        "            self.relu=nn.ReLU()\n",
        "            self.conv2 = nn.Conv2d(out_channels, out_channels, kernel_size = 3, stride = 1, padding = 1)\n",
        "            self.bn2 = nn.BatchNorm2d(out_channels)\n",
        "            self.downsample = downsample\n",
        "            self.out_channels = out_channels\n",
        "            #self.skip_add = nn.quantized.FloatFunctional()\n",
        "        def forward(self, x):\n",
        "            residual = x\n",
        "            y = self.conv1(x)\n",
        "            y = self.bn1(y)\n",
        "            y = self.relu(y)\n",
        "            y = self.conv2(y)\n",
        "            y = self.bn2(y)\n",
        "            if self.downsample:\n",
        "                residual = self.downsample(x)\n",
        "            y += residual\n",
        "            y = self.relu(y)\n",
        "            return y"
      ]
    },
    {
      "cell_type": "markdown",
      "id": "4ebfedf9",
      "metadata": {
        "id": "4ebfedf9"
      },
      "source": [
        "The ResNet class implements the ResNet architecture using PyTorch's nn.Module. It starts with a convolutional layer followed by batch normalization and ReLU activation. The network is built using residual blocks, created by the _make_layer function, which constructs layers of blocks with skip connections. The forward method defines the flow of the input through the network, ending with an adaptive average pooling layer and a fully connected layer for classification."
      ]
    },
    {
      "cell_type": "code",
      "execution_count": 25,
      "id": "00093c79",
      "metadata": {
        "execution": {
          "iopub.execute_input": "2025-02-21T12:50:34.929747Z",
          "iopub.status.busy": "2025-02-21T12:50:34.929429Z",
          "iopub.status.idle": "2025-02-21T12:50:34.963338Z",
          "shell.execute_reply": "2025-02-21T12:50:34.962707Z",
          "shell.execute_reply.started": "2025-02-21T12:50:34.929717Z"
        },
        "id": "00093c79",
        "papermill": {
          "duration": 0.047481,
          "end_time": "2025-02-20T05:06:57.480718",
          "exception": false,
          "start_time": "2025-02-20T05:06:57.433237",
          "status": "completed"
        },
        "tags": [],
        "trusted": true
      },
      "outputs": [],
      "source": [
        "import torch.nn.init as init\n",
        "\n",
        "class ResNet(nn.Module):\n",
        "        def __init__(self, block, layers, num_classes = 10):\n",
        "            super(ResNet, self).__init__()\n",
        "            self.inplanes = 16\n",
        "            #self.quant = torch.quantization.QuantStub()\n",
        "            self.conv1 = nn.Conv2d(3, 16, kernel_size = 3, stride = 1, padding = 1)\n",
        "            self.bn1 = nn.BatchNorm2d(16)\n",
        "            self.relu=nn.ReLU()\n",
        "            #self.maxpool = nn.MaxPool2d(kernel_size = 3, stride = 2, padding = 1)\n",
        "            self.layer0 = self._make_layer(block, 16, layers[0], stride = 1)\n",
        "            self.layer1 = self._make_layer(block, 32, layers[1], stride = 2)\n",
        "            self.layer2 = self._make_layer(block, 64, layers[2], stride = 2)\n",
        "            self.avgpool = nn.AdaptiveAvgPool2d(1)\n",
        "            self.fc = nn.Linear(64, num_classes)\n",
        "            self._initialize_weights()  # Apply He initialization\n",
        "            #self.dequant = torch.quantization.DeQuantStub()\n",
        "        def _initialize_weights(self):\n",
        "            for m in self.modules():\n",
        "                if isinstance(m, nn.Conv2d) or isinstance(m, nn.Linear):\n",
        "                    init.kaiming_normal_(m.weight, mode='fan_out', nonlinearity='relu')\n",
        "                    if m.bias is not None:\n",
        "                        init.zeros_(m.bias)\n",
        "\n",
        "        def _make_layer(self, block, planes, blocks, stride=1):\n",
        "            downsample = None\n",
        "            if stride != 1 or self.inplanes != planes:\n",
        "\n",
        "                downsample = nn.Sequential(\n",
        "                    nn.Conv2d(self.inplanes, planes, kernel_size=1, stride=stride),\n",
        "                    nn.BatchNorm2d(planes),\n",
        "                )\n",
        "            layers = []\n",
        "            layers.append(block(self.inplanes, planes, stride, downsample))\n",
        "            self.inplanes = planes\n",
        "            for i in range(1, blocks):\n",
        "                layers.append(block(self.inplanes, planes))\n",
        "\n",
        "            return nn.Sequential(*layers)\n",
        "\n",
        "        def forward(self, x):\n",
        "            #x = self.quant(x)\n",
        "            x = self.conv1(x)\n",
        "            x = self.bn1(x)\n",
        "            x = self.relu(x)\n",
        "            #x = self.maxpool(x)\n",
        "            x = self.layer0(x)\n",
        "            x = self.layer1(x)\n",
        "            x = self.layer2(x)\n",
        "\n",
        "            x = self.avgpool(x)\n",
        "            x = x.view(x.size(0), -1)\n",
        "            x = self.fc(x)\n",
        "            #x = self.dequant(x)\n",
        "            return x"
      ]
    },
    {
      "cell_type": "markdown",
      "id": "7bebcc3c",
      "metadata": {
        "id": "7bebcc3c"
      },
      "source": [
        "In the original ResNet paper, the authors used 10 classes for CIFAR-10, 128 batches per epoch, and a learning rate of 0.1, adjusted via step decay. For our implementation, we set num_classes = 10, num_epochs = 10, and a batch_size = 128 to balance memory usage and training speed. The original ResNet used SGD with momentum, but we opted for Adam here with a learning rate of 0.001 and a scheduler that reduces it at milestones for stable training. Due to limited computational resources, we kept the model lightweight, using Adam optimizer for faster convergence and ensuring it runs efficiently even on devices with constrained memory."
      ]
    },
    {
      "cell_type": "code",
      "execution_count": null,
      "id": "f40679cd",
      "metadata": {
        "colab": {
          "base_uri": "https://localhost:8080/"
        },
        "execution": {
          "iopub.execute_input": "2025-02-21T12:50:34.964552Z",
          "iopub.status.busy": "2025-02-21T12:50:34.964352Z",
          "iopub.status.idle": "2025-02-21T12:50:35.538896Z",
          "shell.execute_reply": "2025-02-21T12:50:35.538210Z",
          "shell.execute_reply.started": "2025-02-21T12:50:34.964535Z"
        },
        "id": "f40679cd",
        "outputId": "8b1f0920-367e-445a-c982-a86b81005d5b",
        "trusted": true
      },
      "outputs": [],
      "source": [
        "# Hyperparameters\n",
        "num_classes = 10\n",
        "num_epochs = 10\n",
        "batch_size = 128\n",
        "learning_rate = 0.001\n",
        "\n",
        "# Model\n",
        "model = ResNet(ResidualBlock, [3, 3, 3]).to(device)\n",
        "\n",
        "# Loss and optimizer\n",
        "criterion = nn.CrossEntropyLoss()\n",
        "optimizer = torch.optim.SGD(\n",
        "    model.parameters(),\n",
        "    lr=0.06,\n",
        "    momentum=0.9,\n",
        "    weight_decay=5e-4\n",
        ")\n",
        "scheduler = torch.optim.lr_scheduler.MultiStepLR(optimizer, milestones=[4,7], gamma=0.2)\n",
        "\n",
        "print(model)"
      ]
    },
    {
      "cell_type": "code",
      "execution_count": null,
      "id": "nXMvk-fE16Uu",
      "metadata": {
        "colab": {
          "base_uri": "https://localhost:8080/"
        },
        "execution": {
          "iopub.execute_input": "2025-02-21T12:50:35.539997Z",
          "iopub.status.busy": "2025-02-21T12:50:35.539707Z",
          "iopub.status.idle": "2025-02-21T12:50:35.543063Z",
          "shell.execute_reply": "2025-02-21T12:50:35.542305Z",
          "shell.execute_reply.started": "2025-02-21T12:50:35.539977Z"
        },
        "id": "nXMvk-fE16Uu",
        "outputId": "626ebc4b-1f0e-4e6b-d9f6-463bfdd6d07f",
        "trusted": true
      },
      "outputs": [
        {
          "name": "stdout",
          "output_type": "stream",
          "text": [
            "Drive already mounted at /content/drive; to attempt to forcibly remount, call drive.mount(\"/content/drive\", force_remount=True).\n"
          ]
        }
      ],
      "source": [
        "#Optional\n",
        "#from google.colab import drive\n",
        "\n",
        "#drive.mount('/content/drive')"
      ]
    },
    {
      "cell_type": "markdown",
      "id": "53bc740d",
      "metadata": {
        "id": "53bc740d"
      },
      "source": [
        "The training loop includes model checkpointing, which saves the model, optimizer, and scheduler states every two epochs to allow resuming training if interrupted. It also implements early stopping based on validation accuracy, halting training after three consecutive epochs of no improvement. Additionally, the loop ensures efficient memory management by clearing tensors and invoking garbage collection after each batch."
      ]
    },
    {
      "cell_type": "code",
      "execution_count": 28,
      "id": "6a7f6fb3",
      "metadata": {
        "colab": {
          "base_uri": "https://localhost:8080/"
        },
        "execution": {
          "iopub.execute_input": "2025-02-21T12:50:35.543898Z",
          "iopub.status.busy": "2025-02-21T12:50:35.543702Z",
          "iopub.status.idle": "2025-02-21T14:21:15.195345Z",
          "shell.execute_reply": "2025-02-21T14:21:15.194357Z",
          "shell.execute_reply.started": "2025-02-21T12:50:35.543881Z"
        },
        "id": "6a7f6fb3",
        "outputId": "df474561-f80b-497e-ccee-331993bbda9d",
        "trusted": true
      },
      "outputs": [
        {
          "name": "stdout",
          "output_type": "stream",
          "text": [
            "half way there\n",
            "epoch 1, loss: 1.7865 Time(sec): 80.1\n",
            "val acc: 46.6 %\n",
            "half way there\n",
            "Checkpoint saved at epoch 2\n",
            "epoch 2, loss: 1.0558 Time(sec): 79.6\n",
            "val acc: 60.04 %\n",
            "half way there\n",
            "epoch 3, loss: 1.0349 Time(sec): 79.3\n",
            "val acc: 69.06 %\n",
            "half way there\n",
            "Checkpoint saved at epoch 4\n",
            "epoch 4, loss: 0.7262 Time(sec): 79.5\n",
            "val acc: 71.68 %\n",
            "half way there\n",
            "epoch 5, loss: 0.6014 Time(sec): 77.9\n",
            "val acc: 77.08 %\n",
            "half way there\n",
            "Checkpoint saved at epoch 6\n",
            "epoch 6, loss: 0.5601 Time(sec): 77.6\n",
            "val acc: 78.1 %\n",
            "half way there\n",
            "epoch 7, loss: 0.7686 Time(sec): 78.0\n",
            "val acc: 79.92 %\n",
            "half way there\n",
            "Checkpoint saved at epoch 8\n",
            "epoch 8, loss: 0.5533 Time(sec): 79.2\n",
            "val acc: 80.42 %\n",
            "half way there\n",
            "epoch 9, loss: 0.4961 Time(sec): 77.6\n",
            "val acc: 81.08 %\n",
            "half way there\n",
            "Checkpoint saved at epoch 10\n",
            "epoch 10, loss: 0.5008 Time(sec): 78.6\n",
            "val acc: 81.58 %\n"
          ]
        }
      ],
      "source": [
        "import gc\n",
        "import time\n",
        "\n",
        "checkpoint_path = \"/kaggle/working/resnet_checkpoint3.pth\"\n",
        "\n",
        "\n",
        "start_epoch = 0\n",
        "if os.path.exists(checkpoint_path):\n",
        "    checkpoint = torch.load(checkpoint_path, map_location=device)\n",
        "    model.load_state_dict(checkpoint[\"model_state\"])\n",
        "    optimizer.load_state_dict(checkpoint[\"optimizer_state\"])\n",
        "    scheduler.load_state_dict(checkpoint[\"scheduler_state\"])\n",
        "    start_epoch = checkpoint[\"epoch\"] + 1\n",
        "    print(f\"Checkpoint loaded. Resuming from epoch {start_epoch}\")\n",
        "total_step = len(train_loader)\n",
        "best_val = -1\n",
        "tolerance = 3\n",
        "t = 0\n",
        "for epoch in range(start_epoch, num_epochs):\n",
        "    t = time.time()\n",
        "    for i, (images, labels) in enumerate(train_loader):\n",
        "        if total_step/2 == i+1:\n",
        "          print(\"half way there\")\n",
        "        #Move tensors to the configured device\n",
        "        images = images.to(device)\n",
        "        labels = labels.to(device)\n",
        "\n",
        "        #Forward pass\n",
        "        outputs = model(images)\n",
        "        loss = criterion(outputs, labels)\n",
        "\n",
        "        #Backward and optimize\n",
        "        optimizer.zero_grad()\n",
        "        loss.backward()\n",
        "        optimizer.step()\n",
        "        del images, labels, outputs\n",
        "        torch.cuda.empty_cache()\n",
        "        gc.collect()\n",
        "    scheduler.step()\n",
        "    if (epoch + 1) % 2 == 0:\n",
        "        torch.save({\n",
        "            \"epoch\": epoch,\n",
        "            \"model_state\": model.state_dict(),\n",
        "            \"optimizer_state\": optimizer.state_dict(),\n",
        "            \"scheduler_state\": scheduler.state_dict()\n",
        "        }, os.path.join(os.path.dirname(checkpoint_path), f\"resnet_checkpoint3_{epoch}.pth\"))\n",
        "        print(f\"Checkpoint saved at epoch {epoch+1}\")\n",
        "    print ('epoch {}, loss: {:.4f} Time(sec): {:.1f}'.format(epoch+1, loss.item(), time.time()-t))\n",
        "\n",
        "    #Validation\n",
        "    with torch.no_grad():\n",
        "        correct = 0\n",
        "        total = 0\n",
        "        for images, labels in valid_loader:\n",
        "            images = images.to(device)\n",
        "            labels = labels.to(device)\n",
        "            outputs = model(images)\n",
        "            _, predicted = torch.max(outputs.data, 1)\n",
        "            total += labels.size(0)\n",
        "            correct += (predicted == labels).sum().item()\n",
        "            del images, labels, outputs\n",
        "\n",
        "    val_acc = 100 * correct / total\n",
        "    print('val acc: {} %'.format( val_acc))\n",
        "    if val_acc < best_val:\n",
        "        tolerance -= 1\n",
        "    else:\n",
        "        tolerance = 3\n",
        "    if (tolerance == 0):\n",
        "        print(\"early stopping\")\n",
        "        break"
      ]
    },
    {
      "cell_type": "markdown",
      "id": "47ff030d",
      "metadata": {
        "id": "47ff030d"
      },
      "source": [
        "We acheived validation accuracy of 81.58% at epoch 10."
      ]
    },
    {
      "cell_type": "code",
      "execution_count": 29,
      "id": "dfe32441-3a28-4fa2-95f0-9d9699f840a9",
      "metadata": {
        "execution": {
          "iopub.execute_input": "2025-02-21T14:40:35.310411Z",
          "iopub.status.busy": "2025-02-21T14:40:35.310107Z",
          "iopub.status.idle": "2025-02-21T14:40:35.314393Z",
          "shell.execute_reply": "2025-02-21T14:40:35.313694Z",
          "shell.execute_reply.started": "2025-02-21T14:40:35.310389Z"
        },
        "id": "dfe32441-3a28-4fa2-95f0-9d9699f840a9",
        "scrolled": true,
        "trusted": true
      },
      "outputs": [],
      "source": [
        "import matplotlib.pyplot as plt\n",
        "from sklearn.metrics import confusion_matrix\n",
        "import seaborn as sns\n",
        "\n",
        "def plot_confusion_matrix(y_true, y_pred, class_labels):\n",
        "      cm = confusion_matrix(y_true, y_pred)\n",
        "      plt.figure(figsize=(8, 6))\n",
        "      sns.heatmap(cm, annot=True, fmt='d', cmap='Blues', xticklabels=class_labels, yticklabels=class_labels)\n",
        "      plt.xlabel('Predicted Label')\n",
        "      plt.ylabel('True Label')\n",
        "      plt.show()"
      ]
    },
    {
      "cell_type": "markdown",
      "id": "42d36902",
      "metadata": {
        "id": "42d36902"
      },
      "source": [
        "We finally test the last checkpoint at epoch 10(Here it is saved as 9 since it started at 0).\n",
        "\n",
        "We acheived 81% accuracy which is  suboptimal, but very good considering 10 epochs and a large batch size. Additionally a larger dataset is needed for better results.\n",
        "\n",
        "Next we will quantize this model and put it in a challenge against other models."
      ]
    },
    {
      "cell_type": "code",
      "execution_count": 30,
      "id": "b863711c-3134-404c-945d-317d73887d9a",
      "metadata": {
        "colab": {
          "base_uri": "https://localhost:8080/",
          "height": 614
        },
        "execution": {
          "iopub.execute_input": "2025-02-21T14:41:41.211148Z",
          "iopub.status.busy": "2025-02-21T14:41:41.210848Z",
          "iopub.status.idle": "2025-02-21T14:42:29.727805Z",
          "shell.execute_reply": "2025-02-21T14:42:29.726903Z",
          "shell.execute_reply.started": "2025-02-21T14:41:41.211127Z"
        },
        "id": "b863711c-3134-404c-945d-317d73887d9a",
        "outputId": "c95e11bd-d316-4d1d-fc8f-d2f3e8fa5940",
        "trusted": true
      },
      "outputs": [
        {
          "name": "stderr",
          "output_type": "stream",
          "text": [
            "<ipython-input-30-66e6e58f4f50>:1: FutureWarning: You are using `torch.load` with `weights_only=False` (the current default value), which uses the default pickle module implicitly. It is possible to construct malicious pickle data which will execute arbitrary code during unpickling (See https://github.com/pytorch/pytorch/blob/main/SECURITY.md#untrusted-models for more details). In a future release, the default value for `weights_only` will be flipped to `True`. This limits the functions that could be executed during unpickling. Arbitrary objects will no longer be allowed to be loaded via this mode unless they are explicitly allowlisted by the user via `torch.serialization.add_safe_globals`. We recommend you start setting `weights_only=True` for any use case where you don't have full control of the loaded file. Please open an issue on GitHub for any issues related to this experimental feature.\n",
            "  checkpoint = torch.load('/kaggle/working/resnet_checkpoint3_9.pth', map_location=device) #means epoch 10\n"
          ]
        },
        {
          "name": "stdout",
          "output_type": "stream",
          "text": [
            "test Accuracy : 81.23 %\n"
          ]
        },
        {
          "data": {
            "image/png": "[encoded data removed]",
            "text/plain": [
              "<Figure size 800x600 with 2 Axes>"
            ]
          },
          "metadata": {},
          "output_type": "display_data"
        }
      ],
      "source": [
        "checkpoint = torch.load('/kaggle/working/resnet_checkpoint3_9.pth', map_location=device) #means epoch 10\n",
        "model.load_state_dict(checkpoint[\"model_state\"])\n",
        "y_pred = []\n",
        "y_true = []\n",
        "model.to(device)\n",
        "model.eval()\n",
        "with torch.no_grad():\n",
        "        correct = 0\n",
        "        total = 0\n",
        "        for images, labels in test_loader:\n",
        "            images = images.to(device)\n",
        "            labels = labels.to(device)\n",
        "            outputs = model(images)\n",
        "            _, predicted = torch.max(outputs.data, 1)\n",
        "            y_pred.extend(predicted.cpu().numpy())\n",
        "            y_true.extend(labels.cpu().numpy())\n",
        "            total += labels.size(0)\n",
        "            correct += (predicted == labels).sum().item()\n",
        "            del images, labels, outputs\n",
        "        acc =correct / total\n",
        "        print('test Accuracy : {} %'.format(acc*100))\n",
        "plot_confusion_matrix(y_true, y_pred, range(0,10))"
      ]
    },
    {
      "cell_type": "code",
      "execution_count": null,
      "id": "643a5e90-7c2b-42d1-9449-ccf7ea5779a7",
      "metadata": {
        "id": "643a5e90-7c2b-42d1-9449-ccf7ea5779a7",
        "trusted": true
      },
      "outputs": [],
      "source": []
    }
  ],
  "metadata": {
    "accelerator": "GPU",
    "colab": {
      "gpuType": "T4",
      "provenance": []
    },
    "kaggle": {
      "accelerator": "nvidiaTeslaT4",
      "dataSources": [
        {
          "datasetId": 6703046,
          "sourceId": 10799960,
          "sourceType": "datasetVersion"
        }
      ],
      "dockerImageVersionId": 30919,
      "isGpuEnabled": true,
      "isInternetEnabled": true,
      "language": "python",
      "sourceType": "notebook"
    },
    "kernelspec": {
      "display_name": "Python 3",
      "name": "python3"
    },
    "language_info": {
      "codemirror_mode": {
        "name": "ipython",
        "version": 3
      },
      "file_extension": ".py",
      "mimetype": "text/x-python",
      "name": "python",
      "nbconvert_exporter": "python",
      "pygments_lexer": "ipython3",
      "version": "3.10.12"
    },
    "papermill": {
      "default_parameters": {},
      "duration": 124.644678,
      "end_time": "2025-02-20T05:07:00.216846",
      "environment_variables": {},
      "exception": null,
      "input_path": "__notebook__.ipynb",
      "output_path": "__notebook__.ipynb",
      "parameters": {},
      "start_time": "2025-02-20T05:04:55.572168",
      "version": "2.6.0"
    }
  },
  "nbformat": 4,
  "nbformat_minor": 5
}
