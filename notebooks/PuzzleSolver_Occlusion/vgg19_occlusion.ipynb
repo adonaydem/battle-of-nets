{
  "cells": [
    {
      "cell_type": "markdown",
      "id": "3cc9a88e",
      "metadata": {
        "id": "3cc9a88e"
      },
      "source": [
        "## VGG19\n",
        "### Occlusion Test\n",
        "\n",
        "VGG19, introduced by the Visual Geometry Group (Simonyan & Zisserman, 2014), is a deep convolutional neural network known for its simple yet effective architecture. It consists of 19 layers, including 16 convolutional layers and 3 fully connected layers, utilizing small 3x3 filters with a stride of 1 and 2x2 max-pooling layers. The model's depth allows it to learn hierarchical feature representations, making it well-suited for image classification tasks. Despite its straightforward design, VGG19 has shown excellent performance in large-scale image recognition benchmarks, serving as a foundation for various computer vision tasks such as object recognition and transfer learning.\n",
        "\n",
        "\n",
        "Reference: Simonyan, K., & Zisserman, A. (2014). Very Deep Convolutional Networks for Large-Scale Image Recognition. arXiv. https://arxiv.org/abs/1409.1556\n"
      ]
    },
    {
      "cell_type": "code",
      "execution_count": 6,
      "id": "879f2ced",
      "metadata": {
        "execution": {
          "iopub.execute_input": "2025-02-20T09:34:37.778322Z",
          "iopub.status.busy": "2025-02-20T09:34:37.777859Z",
          "iopub.status.idle": "2025-02-20T09:34:43.531384Z",
          "shell.execute_reply": "2025-02-20T09:34:43.530698Z",
          "shell.execute_reply.started": "2025-02-20T09:34:37.778296Z"
        },
        "id": "879f2ced",
        "papermill": {
          "duration": 9.598993,
          "end_time": "2025-02-20T05:05:08.900485",
          "exception": false,
          "start_time": "2025-02-20T05:04:59.301492",
          "status": "completed"
        },
        "tags": [],
        "trusted": true
      },
      "outputs": [],
      "source": [
        "import torch\n",
        "import numpy as np\n",
        "import pandas as pd\n",
        "import torch.nn as nn\n",
        "from torchvision import datasets\n",
        "from torchvision import transforms\n",
        "from torch.utils.data.sampler import SubsetRandomSampler\n",
        "import os"
      ]
    },
    {
      "cell_type": "code",
      "execution_count": 7,
      "id": "8e89e3d9",
      "metadata": {
        "execution": {
          "iopub.execute_input": "2025-02-20T09:34:43.533592Z",
          "iopub.status.busy": "2025-02-20T09:34:43.533202Z",
          "iopub.status.idle": "2025-02-20T09:34:43.602578Z",
          "shell.execute_reply": "2025-02-20T09:34:43.601771Z",
          "shell.execute_reply.started": "2025-02-20T09:34:43.533569Z"
        },
        "id": "8e89e3d9",
        "papermill": {
          "duration": 0.013054,
          "end_time": "2025-02-20T05:05:08.916223",
          "exception": false,
          "start_time": "2025-02-20T05:05:08.903169",
          "status": "completed"
        },
        "tags": [],
        "trusted": true
      },
      "outputs": [],
      "source": [
        "device = torch.device('cuda' if torch.cuda.is_available() else 'cpu')"
      ]
    },
    {
      "cell_type": "code",
      "execution_count": 8,
      "id": "213e1e88-8d95-442a-be20-5c90e1cba315",
      "metadata": {
        "colab": {
          "base_uri": "https://localhost:8080/"
        },
        "execution": {
          "iopub.execute_input": "2025-02-20T09:34:43.603951Z",
          "iopub.status.busy": "2025-02-20T09:34:43.603549Z",
          "iopub.status.idle": "2025-02-20T09:34:43.619911Z",
          "shell.execute_reply": "2025-02-20T09:34:43.619167Z",
          "shell.execute_reply.started": "2025-02-20T09:34:43.603898Z"
        },
        "id": "213e1e88-8d95-442a-be20-5c90e1cba315",
        "outputId": "d02fb3c2-8b41-45db-b1d4-a64ad91b766a",
        "trusted": true
      },
      "outputs": [
        {
          "data": {
            "text/plain": [
              "device(type='cuda')"
            ]
          },
          "execution_count": 8,
          "metadata": {},
          "output_type": "execute_result"
        }
      ],
      "source": [
        "device"
      ]
    },
    {
      "cell_type": "markdown",
      "id": "d4a46b0b",
      "metadata": {
        "id": "d4a46b0b"
      },
      "source": [
        "CIFAR-10 is a popular dataset used for training machine learning models, consisting of 60,000 32x32 color images in 10 different classes. In this section, we will load the CIFAR-10 dataset using TensorFlow and PyTorch. The dataset is split into 50,000 training images and 10,000 test images.\n",
        "\n",
        "# Grid-based Occlusion\n",
        "Inspired by: *Hide-and-Seek: A Data Augmentation Technique for Weakly-Supervised Localization and Beyond, Krishna Kumar Singh et al.*\n",
        "\n",
        "I designed a simple algorithm that applies grid based random cutout of multiple patches in an image."
      ]
    },
    {
      "cell_type": "code",
      "execution_count": 9,
      "id": "4fc5a0d7",
      "metadata": {
        "colab": {
          "base_uri": "https://localhost:8080/"
        },
        "execution": {
          "iopub.execute_input": "2025-02-20T09:34:46.515881Z",
          "iopub.status.busy": "2025-02-20T09:34:46.515578Z",
          "iopub.status.idle": "2025-02-20T09:34:52.450860Z",
          "shell.execute_reply": "2025-02-20T09:34:52.449969Z",
          "shell.execute_reply.started": "2025-02-20T09:34:46.515853Z"
        },
        "id": "4fc5a0d7",
        "outputId": "1129d630-18ea-433a-e61d-7cf4afb76c37",
        "papermill": {
          "duration": 108.404874,
          "end_time": "2025-02-20T05:06:57.323627",
          "exception": false,
          "start_time": "2025-02-20T05:05:08.918753",
          "status": "completed"
        },
        "tags": [],
        "trusted": true
      },
      "outputs": [
        {
          "name": "stdout",
          "output_type": "stream",
          "text": [
            "False\n",
            "False\n"
          ]
        }
      ],
      "source": [
        "def grid_occlusion(img, grid_size, drop_prob):\n",
        "    _, h, w = img.shape\n",
        "    mask = torch.ones((h, w))\n",
        "\n",
        "    for i in range(0, h, grid_size):\n",
        "        for j in range(0, w, grid_size):\n",
        "            if torch.rand(1).item() < drop_prob:\n",
        "                mask[i:i+grid_size, j:j+grid_size] = 0\n",
        "\n",
        "    img = img * mask\n",
        "    return img\n",
        "\n",
        "class GridOcclusionTransform:\n",
        "    def __init__(self, grid_size=4, drop_prob=0.2):\n",
        "        self.grid_size = grid_size\n",
        "        self.drop_prob = drop_prob\n",
        "\n",
        "    def __call__(self, img):\n",
        "        return grid_occlusion(img, self.grid_size, self.drop_prob)\n",
        "\n",
        "\n",
        "def data_loader(data_dir,\n",
        "                    batch_size,\n",
        "                    random_seed=42,\n",
        "                    valid_size=0.1,\n",
        "                    shuffle=True,\n",
        "                    test=False):\n",
        "\n",
        "        normalize = transforms.Normalize(\n",
        "            mean=[0.4914, 0.4822, 0.4465],\n",
        "            std=[0.2023, 0.1994, 0.2010],\n",
        "        )\n",
        "\n",
        "        # define transforms\n",
        "        transform = transforms.Compose([\n",
        "            transforms.RandomCrop(32, padding=4),\n",
        "            transforms.RandomHorizontalFlip(),\n",
        "            transforms.ToTensor(),\n",
        "            GridOcclusionTransform(),\n",
        "            normalize,\n",
        "        ])\n",
        "        transform_test = transforms.Compose([\n",
        "            transforms.RandomCrop(32, padding=4),\n",
        "            transforms.RandomHorizontalFlip(),\n",
        "            transforms.ToTensor(),\n",
        "            GridOcclusionTransform(),\n",
        "\n",
        "            normalize,\n",
        "        ])\n",
        "        download = not os.path.exists(os.path.join(data_dir, \"cifar-10-batches-py\"))\n",
        "        print(download)\n",
        "        if test:\n",
        "            dataset = datasets.CIFAR10(\n",
        "              root=data_dir, train=False,\n",
        "              download=download, transform=transform_test,\n",
        "            )\n",
        "\n",
        "            data_loader = torch.utils.data.DataLoader(\n",
        "                dataset, batch_size=batch_size, shuffle=shuffle\n",
        "            )\n",
        "\n",
        "            return data_loader\n",
        "\n",
        "        # load the dataset\n",
        "        train_dataset = datasets.CIFAR10(\n",
        "            root=data_dir, train=True,\n",
        "            download=download, transform=transform,\n",
        "        )\n",
        "\n",
        "\n",
        "        num_train = len(train_dataset)\n",
        "        indices = list(range(num_train))\n",
        "        split = int(np.floor(valid_size * num_train))\n",
        "\n",
        "        if shuffle:\n",
        "            np.random.seed(42)\n",
        "            np.random.shuffle(indices)\n",
        "\n",
        "        train_idx, valid_idx = indices[split:], indices[:split]\n",
        "        train_sampler = SubsetRandomSampler(train_idx)\n",
        "        valid_sampler = SubsetRandomSampler(valid_idx)\n",
        "\n",
        "        train_loader = torch.utils.data.DataLoader(\n",
        "            train_dataset, batch_size=batch_size, sampler=train_sampler,num_workers=2,pin_memory=True)\n",
        "\n",
        "        valid_loader = torch.utils.data.DataLoader(\n",
        "            train_dataset, batch_size=batch_size, sampler=valid_sampler)\n",
        "\n",
        "        return (train_loader, valid_loader)\n",
        "train_loader, valid_loader = data_loader(data_dir='/kaggle/working/cifar10',\n",
        "                                             batch_size=128)\n",
        "\n",
        "test_loader = data_loader(data_dir='/kaggle/working/cifar10',\n",
        "                                  batch_size=128,\n",
        "                                  test=True)"
      ]
    },
    {
      "cell_type": "markdown",
      "id": "a9900b1c",
      "metadata": {
        "id": "a9900b1c"
      },
      "source": [
        "The VGG19 class defines a convolutional neural network architecture based on the VGG model, with 19 layers, including convolutional and fully connected layers. In the __init__ method, the model is initialized with a sequence of convolutional layers followed by ReLU activations, and a classifier consisting of three fully connected layers. The architecture is designed using the _make_layer_set method, which constructs the network's layers based on the specified number of channels and repetitions. The network uses Kaiming initialization for the convolutional layers and normal initialization for the fully connected layers. The forward method passes the input through the layers, applies a flattening step, and outputs the classification results."
      ]
    },
    {
      "cell_type": "code",
      "execution_count": 10,
      "id": "561235d6",
      "metadata": {
        "execution": {
          "iopub.execute_input": "2025-02-20T09:34:52.452274Z",
          "iopub.status.busy": "2025-02-20T09:34:52.452013Z",
          "iopub.status.idle": "2025-02-20T09:34:52.457938Z",
          "shell.execute_reply": "2025-02-20T09:34:52.457023Z",
          "shell.execute_reply.started": "2025-02-20T09:34:52.452252Z"
        },
        "id": "561235d6",
        "papermill": {
          "duration": 0.042786,
          "end_time": "2025-02-20T05:06:57.399851",
          "exception": false,
          "start_time": "2025-02-20T05:06:57.357065",
          "status": "completed"
        },
        "tags": [],
        "trusted": true
      },
      "outputs": [],
      "source": [
        "import torch\n",
        "import torch.nn as nn\n",
        "\n",
        "class VGG19(nn.Module):\n",
        "    def __init__(self, num_classes=10):\n",
        "        super(VGG19, self).__init__()\n",
        "        self.in_channels = 3\n",
        "\n",
        "        # Convolutional layers (atomic definition without Sequential)\n",
        "        self.conv1_1 = nn.Conv2d(3, 64, kernel_size=3, padding=1)\n",
        "        self.relu1_1 = nn.ReLU(inplace=True)\n",
        "        self.conv1_2 = nn.Conv2d(64, 64, kernel_size=3, padding=1)\n",
        "        self.relu1_2 = nn.ReLU(inplace=True)\n",
        "        self.pool1 = nn.MaxPool2d(kernel_size=2, stride=2)\n",
        "\n",
        "        self.conv2_1 = nn.Conv2d(64, 128, kernel_size=3, padding=1)\n",
        "        self.relu2_1 = nn.ReLU(inplace=True)\n",
        "        self.conv2_2 = nn.Conv2d(128, 128, kernel_size=3, padding=1)\n",
        "        self.relu2_2 = nn.ReLU(inplace=True)\n",
        "        self.pool2 = nn.MaxPool2d(kernel_size=2, stride=2)\n",
        "\n",
        "        self.conv3_1 = nn.Conv2d(128, 256, kernel_size=3, padding=1)\n",
        "        self.relu3_1 = nn.ReLU(inplace=True)\n",
        "        self.conv3_2 = nn.Conv2d(256, 256, kernel_size=3, padding=1)\n",
        "        self.relu3_2 = nn.ReLU(inplace=True)\n",
        "        self.conv3_3 = nn.Conv2d(256, 256, kernel_size=3, padding=1)\n",
        "        self.relu3_3 = nn.ReLU(inplace=True)\n",
        "        self.conv3_4 = nn.Conv2d(256, 256, kernel_size=3, padding=1)\n",
        "        self.relu3_4 = nn.ReLU(inplace=True)\n",
        "        self.pool3 = nn.MaxPool2d(kernel_size=2, stride=2)\n",
        "\n",
        "        self.conv4_1 = nn.Conv2d(256, 512, kernel_size=3, padding=1)\n",
        "        self.relu4_1 = nn.ReLU(inplace=True)\n",
        "        self.conv4_2 = nn.Conv2d(512, 512, kernel_size=3, padding=1)\n",
        "        self.relu4_2 = nn.ReLU(inplace=True)\n",
        "        self.conv4_3 = nn.Conv2d(512, 512, kernel_size=3, padding=1)\n",
        "        self.relu4_3 = nn.ReLU(inplace=True)\n",
        "        self.conv4_4 = nn.Conv2d(512, 512, kernel_size=3, padding=1)\n",
        "        self.relu4_4 = nn.ReLU(inplace=True)\n",
        "        self.pool4 = nn.MaxPool2d(kernel_size=2, stride=2)\n",
        "\n",
        "        self.conv5_1 = nn.Conv2d(512, 512, kernel_size=3, padding=1)\n",
        "        self.relu5_1 = nn.ReLU(inplace=True)\n",
        "        self.conv5_2 = nn.Conv2d(512, 512, kernel_size=3, padding=1)\n",
        "        self.relu5_2 = nn.ReLU(inplace=True)\n",
        "        self.conv5_3 = nn.Conv2d(512, 512, kernel_size=3, padding=1)\n",
        "        self.relu5_3 = nn.ReLU(inplace=True)\n",
        "        self.conv5_4 = nn.Conv2d(512, 512, kernel_size=3, padding=1)\n",
        "        self.relu5_4 = nn.ReLU(inplace=True)\n",
        "        self.pool5 = nn.MaxPool2d(kernel_size=2, stride=2)\n",
        "\n",
        "        # Fully connected layers\n",
        "        self.fc1 = nn.Linear(512, 4096)\n",
        "        self.relu_fc1 = nn.ReLU(inplace=True)\n",
        "        self.fc2 = nn.Linear(4096, 4096)\n",
        "        self.relu_fc2 = nn.ReLU(inplace=True)\n",
        "        self.fc3 = nn.Linear(4096, num_classes)\n",
        "\n",
        "        # Weight initialization\n",
        "        self._initialize_weights()\n",
        "\n",
        "    def forward(self, x):\n",
        "        x = self.relu1_1(self.conv1_1(x))\n",
        "        x = self.relu1_2(self.conv1_2(x))\n",
        "        x = self.pool1(x)\n",
        "\n",
        "        x = self.relu2_1(self.conv2_1(x))\n",
        "        x = self.relu2_2(self.conv2_2(x))\n",
        "        x = self.pool2(x)\n",
        "\n",
        "        x = self.relu3_1(self.conv3_1(x))\n",
        "        x = self.relu3_2(self.conv3_2(x))\n",
        "        x = self.relu3_3(self.conv3_3(x))\n",
        "        x = self.relu3_4(self.conv3_4(x))\n",
        "        x = self.pool3(x)\n",
        "\n",
        "        x = self.relu4_1(self.conv4_1(x))\n",
        "        x = self.relu4_2(self.conv4_2(x))\n",
        "        x = self.relu4_3(self.conv4_3(x))\n",
        "        x = self.relu4_4(self.conv4_4(x))\n",
        "        x = self.pool4(x)\n",
        "\n",
        "        x = self.relu5_1(self.conv5_1(x))\n",
        "        x = self.relu5_2(self.conv5_2(x))\n",
        "        x = self.relu5_3(self.conv5_3(x))\n",
        "        x = self.relu5_4(self.conv5_4(x))\n",
        "        x = self.pool5(x)\n",
        "\n",
        "        x = x.view(x.size(0), -1)\n",
        "        x = self.relu_fc1(self.fc1(x))\n",
        "        x = self.relu_fc2(self.fc2(x))\n",
        "        x = self.fc3(x)\n",
        "\n",
        "        return x\n",
        "\n",
        "    def _initialize_weights(self):\n",
        "        for m in self.modules():\n",
        "            if isinstance(m, nn.Conv2d):\n",
        "                nn.init.kaiming_normal_(m.weight, mode='fan_out', nonlinearity='relu')\n",
        "                if m.bias is not None:\n",
        "                    nn.init.constant_(m.bias, 0)\n",
        "            elif isinstance(m, nn.Linear):\n",
        "                nn.init.normal_(m.weight, 0, 0.01)\n",
        "                nn.init.constant_(m.bias, 0)\n"
      ]
    },
    {
      "cell_type": "markdown",
      "id": "e087ca14",
      "metadata": {
        "id": "e087ca14"
      },
      "source": [
        "The VGG19 model, originally designed for the ImageNet dataset, employs a deep architecture with 19 layers, including 16 convolutional layers and 3 fully connected layers. For training on the CIFAR-10 dataset on our limited GPU resources adjustments to hyperparameters are necessary to optimize performance. Modifications include reducing the learning rate, decreasing the number of epochs.\n",
        "\n",
        "We also use lr scheduler instead of manually adjusting lr(Practiced orginally).\n"
      ]
    },
    {
      "cell_type": "code",
      "execution_count": null,
      "id": "f40679cd",
      "metadata": {
        "execution": {
          "iopub.execute_input": "2025-02-20T09:34:59.766408Z",
          "iopub.status.busy": "2025-02-20T09:34:59.766061Z",
          "iopub.status.idle": "2025-02-20T09:35:00.009425Z",
          "shell.execute_reply": "2025-02-20T09:35:00.008493Z",
          "shell.execute_reply.started": "2025-02-20T09:34:59.766383Z"
        },
        "id": "f40679cd",
        "trusted": true
      },
      "outputs": [],
      "source": [
        "num_classes = 10\n",
        "num_epochs = 10\n",
        "learning_rate = 0.01\n",
        "\n",
        "model = VGG19()\n",
        "model.to(device)\n",
        "\n",
        "criterion = nn.CrossEntropyLoss()\n",
        "optimizer = torch.optim.SGD(model.parameters(), lr=learning_rate, weight_decay=0.001, momentum=0.9)\n",
        "scheduler = torch.optim.lr_scheduler.MultiStepLR(optimizer,\n",
        "                                               milestones=[3],\n",
        "                                               gamma=0.1)\n",
        "\n",
        "total_step = len(train_loader)"
      ]
    },
    {
      "cell_type": "code",
      "execution_count": 12,
      "id": "nXMvk-fE16Uu",
      "metadata": {
        "colab": {
          "base_uri": "https://localhost:8080/"
        },
        "id": "nXMvk-fE16Uu",
        "outputId": "c226cefb-134d-4ca0-dc0d-b953374f5e8f"
      },
      "outputs": [
        {
          "name": "stdout",
          "output_type": "stream",
          "text": [
            "Mounted at /content/drive\n"
          ]
        }
      ],
      "source": [
        "from google.colab import drive\n",
        "os.environ['PYTORCH_CUDA_ALLOC_CONF'] = 'expandable_segments:True'\n",
        "drive.mount('/content/drive')"
      ]
    },
    {
      "cell_type": "markdown",
      "id": "4662569e",
      "metadata": {
        "id": "4662569e"
      },
      "source": [
        "The training loop includes model checkpointing, which saves the model, optimizer, and scheduler states every two epochs to allow resuming training if interrupted. It also implements early stopping based on validation accuracy, halting training after three consecutive epochs of no improvement. Additionally, the loop ensures efficient memory management by clearing tensors and invoking garbage collection after each batch."
      ]
    },
    {
      "cell_type": "code",
      "execution_count": null,
      "id": "6a7f6fb3",
      "metadata": {
        "colab": {
          "base_uri": "https://localhost:8080/"
        },
        "execution": {
          "iopub.execute_input": "2025-02-20T09:35:02.566572Z",
          "iopub.status.busy": "2025-02-20T09:35:02.566264Z"
        },
        "id": "6a7f6fb3",
        "outputId": "a7ab007c-8e7e-47ba-c86d-1384f3ddceb6",
        "trusted": true
      },
      "outputs": [
        {
          "name": "stdout",
          "output_type": "stream",
          "text": [
            "epoch 1, Train loss: 2.1120\n",
            "Time: 106.85\n",
            "Val acc: 21.9600%    Val loss:  2.09\n",
            "Checkpoint saved at epoch 2\n",
            "epoch 2, Train loss: 1.8299\n",
            "Time: 114.60\n",
            "Val acc: 28.8000%    Val loss:  1.87\n",
            "epoch 3, Train loss: 1.5221\n",
            "Time: 106.15\n",
            "Val acc: 31.9800%    Val loss:  1.77\n",
            "Checkpoint saved at epoch 4\n",
            "epoch 4, Train loss: 1.5270\n",
            "Time: 112.63\n",
            "Val acc: 40.7000%    Val loss:  1.56\n",
            "epoch 5, Train loss: 1.3600\n",
            "Time: 106.83\n",
            "Val acc: 44.6600%    Val loss:  1.45\n",
            "Checkpoint saved at epoch 6\n",
            "epoch 6, Train loss: 1.2892\n",
            "Time: 108.65\n",
            "Val acc: 47.5400%    Val loss:  1.43\n",
            "epoch 7, Train loss: 1.0791\n",
            "Time: 104.89\n",
            "Val acc: 54.6800%    Val loss:  1.22\n",
            "Checkpoint saved at epoch 8\n",
            "epoch 8, Train loss: 1.0859\n",
            "Time: 114.10\n",
            "Val acc: 56.1800%    Val loss:  1.19\n",
            "epoch 9, Train loss: 1.3505\n",
            "Time: 104.71\n",
            "Val acc: 57.2800%    Val loss:  1.16\n",
            "Checkpoint saved at epoch 10\n",
            "epoch 10, Train loss: 1.0881\n",
            "Time: 107.84\n",
            "Val acc: 57.1600%    Val loss:  1.16\n"
          ]
        }
      ],
      "source": [
        "import gc\n",
        "import time\n",
        "\n",
        "checkpoint_path = \"/content/vgg19_occulusion_10.pth\"\n",
        "\n",
        "\n",
        "start_epoch = 0\n",
        "if os.path.exists(checkpoint_path):\n",
        "    checkpoint = torch.load(checkpoint_path, map_location=device)\n",
        "    model.load_state_dict(checkpoint[\"model_state\"])\n",
        "    optimizer.load_state_dict(checkpoint[\"optimizer_state\"])\n",
        "    scheduler.load_state_dict(checkpoint[\"scheduler_state\"])\n",
        "    start_epoch = checkpoint[\"epoch\"] + 1\n",
        "    print(f\"Checkpoint loaded. Resuming from epoch {start_epoch}\")\n",
        "total_step = len(train_loader)\n",
        "best_val = -1\n",
        "tolerance = 3\n",
        "t = 0\n",
        "loss_info = {'train':[], 'val':[]}\n",
        "for epoch in range(start_epoch, num_epochs):\n",
        "    t = time.time()\n",
        "    for i, (images, labels) in enumerate(train_loader):\n",
        "\n",
        "        #Move tensors to the configured device\n",
        "        images = images.to(device)\n",
        "        labels = labels.to(device)\n",
        "\n",
        "        #Forward pass\n",
        "        outputs = model(images)\n",
        "        loss = criterion(outputs, labels)\n",
        "\n",
        "        #Backward and optimize\n",
        "        optimizer.zero_grad()\n",
        "        loss.backward()\n",
        "        optimizer.step()\n",
        "        del images, labels, outputs\n",
        "        torch.cuda.empty_cache()\n",
        "        gc.collect()\n",
        "    scheduler.step()\n",
        "    if (epoch + 1) % 2 == 0:\n",
        "        torch.save({\n",
        "            \"epoch\": epoch,\n",
        "            \"model_state\": model.state_dict(),\n",
        "            \"optimizer_state\": optimizer.state_dict(),\n",
        "            \"scheduler_state\":scheduler.state_dict()\n",
        "        }, os.path.join(os.path.dirname(checkpoint_path), f\"vgg19_occulusion_{epoch+1}.pth\"))\n",
        "        print(f\"Checkpoint saved at epoch {epoch+1}\")\n",
        "    print ('epoch {}, Train loss: {:.4f}'.format(epoch+1, loss.item()))\n",
        "    print(\"Time: {:.2f}\".format( time.time()-t))\n",
        "    loss_info['train'].append(loss.item())\n",
        "\n",
        "    # Validation\n",
        "    with torch.no_grad():\n",
        "        correct = 0\n",
        "        total = 0\n",
        "        loss_total = 0\n",
        "        batch_size = 0\n",
        "        for images, labels in valid_loader:\n",
        "            images = images.to(device)\n",
        "            labels = labels.to(device)\n",
        "            outputs = model(images)\n",
        "            _, predicted = torch.max(outputs.data, 1)\n",
        "            loss = criterion(outputs, labels)\n",
        "            loss_total += loss.item()\n",
        "            total += labels.size(0)\n",
        "            correct += (predicted == labels).sum().item()\n",
        "            batch_size+=1\n",
        "\n",
        "        loss_avg = loss_total/batch_size\n",
        "        val_acc = 100 * correct / total\n",
        "        print(f'Val acc: {val_acc:.4f}%    Val loss: {loss_avg: .2f}')\n",
        "        loss_info['val'].append(loss_avg)\n",
        "\n",
        "\n",
        "    if epoch > 0 and val_acc <= best_val:\n",
        "        tolerance -= 1\n",
        "        if tolerance == 0:\n",
        "            print(\"early stopping\")\n",
        "            break\n",
        "    else:\n",
        "        best_val = val_acc\n",
        "        tolerance = 3"
      ]
    },
    {
      "cell_type": "markdown",
      "id": "f986b884",
      "metadata": {},
      "source": [
        "Since the first 10 epochs were unsatisfactory, we will train for five more."
      ]
    },
    {
      "cell_type": "code",
      "execution_count": 15,
      "id": "WPSnEoAYmhSF",
      "metadata": {
        "colab": {
          "base_uri": "https://localhost:8080/"
        },
        "id": "WPSnEoAYmhSF",
        "outputId": "e64ba45a-a8a2-4c96-db84-ce77f4b88f8f"
      },
      "outputs": [
        {
          "name": "stdout",
          "output_type": "stream",
          "text": [
            "Checkpoint loaded. Resuming from epoch 11\n",
            "epoch 11, Train loss: 1.1810\n",
            "Time: 110.68\n",
            "Val acc: 57.4800%    Val loss:  1.16\n",
            "Checkpoint saved at epoch 12\n",
            "epoch 12, Train loss: 1.1091\n",
            "Time: 114.48\n",
            "Val acc: 58.5600%    Val loss:  1.11\n",
            "epoch 13, Train loss: 1.0177\n",
            "Time: 111.15\n",
            "Val acc: 60.2000%    Val loss:  1.10\n",
            "Checkpoint saved at epoch 14\n",
            "epoch 14, Train loss: 1.0509\n",
            "Time: 114.20\n",
            "Val acc: 61.3000%    Val loss:  1.05\n",
            "epoch 15, Train loss: 0.9431\n",
            "Time: 110.91\n",
            "Val acc: 62.2000%    Val loss:  1.06\n"
          ]
        }
      ],
      "source": [
        "import gc\n",
        "import time\n",
        "\n",
        "checkpoint_path = \"/content/vgg19_occulusion_10.pth\"\n",
        "\n",
        "num_epochs = 5\n",
        "start_epoch = 11\n",
        "if os.path.exists(checkpoint_path):\n",
        "    checkpoint = torch.load(checkpoint_path, map_location=device)\n",
        "    model.load_state_dict(checkpoint[\"model_state\"])\n",
        "    optimizer.load_state_dict(checkpoint[\"optimizer_state\"])\n",
        "    scheduler.load_state_dict(checkpoint[\"scheduler_state\"])\n",
        "    start_epoch = checkpoint[\"epoch\"] + 1\n",
        "    print(f\"Checkpoint loaded. Resuming from epoch {start_epoch+1}\")\n",
        "total_step = len(train_loader)\n",
        "best_val = -1\n",
        "tolerance = 3\n",
        "t = 0\n",
        "loss_info = {'train':[], 'val':[]}\n",
        "for epoch in range(start_epoch, start_epoch + num_epochs):\n",
        "    t = time.time()\n",
        "    for i, (images, labels) in enumerate(train_loader):\n",
        "\n",
        "        #Move tensors to the configured device\n",
        "        images = images.to(device)\n",
        "        labels = labels.to(device)\n",
        "\n",
        "        #Forward pass\n",
        "        outputs = model(images)\n",
        "        loss = criterion(outputs, labels)\n",
        "\n",
        "        #Backward and optimize\n",
        "        optimizer.zero_grad()\n",
        "        loss.backward()\n",
        "        optimizer.step()\n",
        "        del images, labels, outputs\n",
        "        torch.cuda.empty_cache()\n",
        "        gc.collect()\n",
        "    scheduler.step()\n",
        "    if (epoch + 1) % 2 == 0:\n",
        "        torch.save({\n",
        "            \"epoch\": epoch,\n",
        "            \"model_state\": model.state_dict(),\n",
        "            \"optimizer_state\": optimizer.state_dict(),\n",
        "            \"scheduler_state\":scheduler.state_dict()\n",
        "        }, os.path.join(os.path.dirname(checkpoint_path), f\"vgg19_occulusion_{epoch+1}.pth\"))\n",
        "        print(f\"Checkpoint saved at epoch {epoch+1}\")\n",
        "    print ('epoch {}, Train loss: {:.4f}'.format(epoch+1, loss.item()))\n",
        "    print(\"Time: {:.2f}\".format( time.time()-t))\n",
        "    loss_info['train'].append(loss.item())\n",
        "\n",
        "    # Validation\n",
        "    with torch.no_grad():\n",
        "        correct = 0\n",
        "        total = 0\n",
        "        loss_total = 0\n",
        "        batch_size = 0\n",
        "        for images, labels in valid_loader:\n",
        "            images = images.to(device)\n",
        "            labels = labels.to(device)\n",
        "            outputs = model(images)\n",
        "            _, predicted = torch.max(outputs.data, 1)\n",
        "            loss = criterion(outputs, labels)\n",
        "            loss_total += loss.item()\n",
        "            total += labels.size(0)\n",
        "            correct += (predicted == labels).sum().item()\n",
        "            batch_size+=1\n",
        "\n",
        "        loss_avg = loss_total/batch_size\n",
        "        val_acc = 100 * correct / total\n",
        "        print(f'Val acc: {val_acc:.4f}%    Val loss: {loss_avg: .2f}')\n",
        "        loss_info['val'].append(loss_avg)\n",
        "\n",
        "\n",
        "    if epoch > 0 and val_acc <= best_val:\n",
        "        tolerance -= 1\n",
        "        if tolerance == 0:\n",
        "            print(\"early stopping\")\n",
        "            break\n",
        "    else:\n",
        "        best_val = val_acc\n",
        "        tolerance = 3"
      ]
    },
    {
      "cell_type": "code",
      "execution_count": 17,
      "id": "yxHKJxhoiWOU",
      "metadata": {
        "id": "yxHKJxhoiWOU"
      },
      "outputs": [],
      "source": [
        "import seaborn as sns\n",
        "import matplotlib.pyplot as plt\n",
        "from sklearn.metrics import confusion_matrix\n",
        "def plot_confusion_matrix(y_true, y_pred, class_labels):\n",
        "      cm = confusion_matrix(y_true, y_pred)\n",
        "      plt.figure(figsize=(8, 6))\n",
        "      sns.heatmap(cm, annot=True, fmt='d', cmap='Blues', xticklabels=class_labels, yticklabels=class_labels)\n",
        "      plt.xlabel('Predicted Label')\n",
        "      plt.ylabel('True Label')\n",
        "      plt.show()\n"
      ]
    },
    {
      "cell_type": "markdown",
      "id": "15705be2",
      "metadata": {},
      "source": [
        "### Check Original Model\n",
        "We first test older model weights to analyze robustness on altered images. This model was trained on clean non-altered images."
      ]
    },
    {
      "cell_type": "code",
      "execution_count": 19,
      "id": "Wz1xzYxEruMg",
      "metadata": {
        "colab": {
          "base_uri": "https://localhost:8080/",
          "height": 578
        },
        "id": "Wz1xzYxEruMg",
        "outputId": "06c7ed8d-1975-480d-b46d-431f345b6fc5"
      },
      "outputs": [
        {
          "name": "stdout",
          "output_type": "stream",
          "text": [
            "Original loaded\n",
            "Accuracy 24.07%\n"
          ]
        },
        {
          "data": {
            "image/png": "[encoded data removed]",
            "text/plain": [
              "<Figure size 800x600 with 2 Axes>"
            ]
          },
          "metadata": {},
          "output_type": "display_data"
        }
      ],
      "source": [
        "y_pred = []\n",
        "y_true = []\n",
        "model.eval()\n",
        "checkpoint_path = \"/content/vgg19_checkpoint3_9.pth\"\n",
        "\n",
        "if os.path.exists(checkpoint_path):\n",
        "    checkpoint = torch.load(checkpoint_path, map_location='cpu')\n",
        "    model.load_state_dict(checkpoint[\"model_state\"])\n",
        "    optimizer.load_state_dict(checkpoint[\"optimizer_state\"])\n",
        "    scheduler.load_state_dict(checkpoint[\"scheduler_state\"])\n",
        "    print('Original loaded')\n",
        "with torch.no_grad():\n",
        "    correct = 0\n",
        "    total = 0\n",
        "    for images, labels in test_loader:\n",
        "        model.to(device)\n",
        "        images = images.to(device)\n",
        "        labels = labels.to(device)\n",
        "        outputs = model(images)\n",
        "        _, predicted = torch.max(outputs.data, 1)\n",
        "        y_pred.extend(predicted.cpu().numpy())\n",
        "        y_true.extend(labels.cpu().numpy())\n",
        "        total += labels.size(0)\n",
        "        correct += (predicted == labels).sum().item()\n",
        "        del images, labels, outputs\n",
        "\n",
        "\n",
        "print('Accuracy {}%'.format(100 * correct / total))\n",
        "plot_confusion_matrix(y_true, y_pred, range(0,10))"
      ]
    },
    {
      "cell_type": "markdown",
      "id": "9416cbc1",
      "metadata": {},
      "source": [
        "### Check our new model"
      ]
    },
    {
      "cell_type": "code",
      "execution_count": null,
      "id": "zjGNGl8mJ-Ln",
      "metadata": {
        "colab": {
          "base_uri": "https://localhost:8080/",
          "height": 560
        },
        "id": "zjGNGl8mJ-Ln",
        "outputId": "7f42cafc-ad10-41a5-fd2a-1e2131e95d10"
      },
      "outputs": [
        {
          "data": {
            "image/png": "[encoded data removed]",
            "text/plain": [
              "<Figure size 800x600 with 2 Axes>"
            ]
          },
          "metadata": {},
          "output_type": "display_data"
        },
        {
          "name": "stdout",
          "output_type": "stream",
          "text": [
            "Accuracy 62.18%\n"
          ]
        }
      ],
      "source": [
        "y_pred = []\n",
        "y_true = []\n",
        "model.eval()\n",
        "\n",
        "# The newly trained model's checkpoint\n",
        "checkpoint_path = \"/content/drive/MyDrive/inception_10.pth\"\n",
        "\n",
        "if os.path.exists(checkpoint_path):\n",
        "    checkpoint = torch.load(checkpoint_path, map_location='cpu')\n",
        "    model.load_state_dict(checkpoint[\"model_state\"])\n",
        "    optimizer.load_state_dict(checkpoint[\"optimizer_state\"])\n",
        "    scheduler.load_state_dict(checkpoint[\"scheduler_state\"])\n",
        "with torch.no_grad():\n",
        "    correct = 0\n",
        "    total = 0\n",
        "    for images, labels in test_loader:\n",
        "        model.to(device)\n",
        "        images = images.to(device)\n",
        "        labels = labels.to(device)\n",
        "        outputs = model(images)\n",
        "        _, predicted = torch.max(outputs.data, 1)\n",
        "        y_pred.extend(predicted.cpu().numpy())\n",
        "        y_true.extend(labels.cpu().numpy())\n",
        "        total += labels.size(0)\n",
        "        correct += (predicted == labels).sum().item()\n",
        "        del images, labels, outputs\n",
        "\n",
        "plot_confusion_matrix(y_true, y_pred, range(0,10))\n",
        "print('Accuracy {}%'.format(100 * correct / total))"
      ]
    },
    {
      "cell_type": "markdown",
      "id": "d09339cc",
      "metadata": {},
      "source": [
        "# Scores\n",
        "\n",
        "#### First, we check the original model's behaviour\n",
        "*This model was trained in the past with clean/unaltered cifar10 images.*\n",
        "$$\n",
        "\\text{Pure Model Robustness} = \\frac{\\text{Accuracy on occluded images}}{\\text{Accuracy on non-occluded images}}= 24.07 / 70.88 = 0.348\n",
        "$$\n",
        "\n",
        "\n",
        "\n",
        "\n",
        "#### Now, we check the newly trained model's improvement compared to original\n",
        "*This will be indicative of the need to train on altered images.*\n",
        "$$\n",
        "\\text{Trained Model Robustness Improvement} = \\frac{\\text{New model accuracy on occluded images}}{\\text{Old model accuracy on occluded images}}= 62.18 / 24.07 = 2.58\n",
        "$$\n",
        "\n"
      ]
    }
  ],
  "metadata": {
    "accelerator": "GPU",
    "colab": {
      "gpuType": "T4",
      "provenance": []
    },
    "kaggle": {
      "accelerator": "nvidiaTeslaT4",
      "dataSources": [
        {
          "datasetId": 6703046,
          "sourceId": 10799960,
          "sourceType": "datasetVersion"
        }
      ],
      "dockerImageVersionId": 30887,
      "isGpuEnabled": true,
      "isInternetEnabled": true,
      "language": "python",
      "sourceType": "notebook"
    },
    "kernelspec": {
      "display_name": "Python 3",
      "name": "python3"
    },
    "language_info": {
      "codemirror_mode": {
        "name": "ipython",
        "version": 3
      },
      "file_extension": ".py",
      "mimetype": "text/x-python",
      "name": "python",
      "nbconvert_exporter": "python",
      "pygments_lexer": "ipython3",
      "version": "3.10.12"
    },
    "papermill": {
      "default_parameters": {},
      "duration": 124.644678,
      "end_time": "2025-02-20T05:07:00.216846",
      "environment_variables": {},
      "exception": null,
      "input_path": "__notebook__.ipynb",
      "output_path": "__notebook__.ipynb",
      "parameters": {},
      "start_time": "2025-02-20T05:04:55.572168",
      "version": "2.6.0"
    }
  },
  "nbformat": 4,
  "nbformat_minor": 5
}
